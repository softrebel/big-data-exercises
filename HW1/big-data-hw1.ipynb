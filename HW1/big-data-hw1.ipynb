{
 "cells": [
  {
   "cell_type": "markdown",
   "metadata": {},
   "source": [
    "# Assignment on Map-Reduce"
   ]
  },
  {
   "cell_type": "markdown",
   "metadata": {},
   "source": [
    "In the following questions, you will solve real problems with the techniques you have learned before. You will be working with data of **google play dataset** which includes the following datasets: \n",
    "1. googleplaystore\n",
    "2. googleplaystore review\n",
    "\n",
    "*You can find the data files on the archive have attached to this exercise.*"
   ]
  },
  {
   "cell_type": "markdown",
   "metadata": {},
   "source": [
    "**T** (10pts) Number of applications according to the version of Android(output must be sorted)\n",
    "\n",
    "\n",
    "> result: \n",
    "`<version, count>`"
   ]
  },
  {
   "cell_type": "code",
   "execution_count": 45,
   "metadata": {},
   "outputs": [
    {
     "data": {
      "text/plain": [
       "['App',\n",
       " 'Category',\n",
       " 'Rating',\n",
       " 'Reviews',\n",
       " 'Size',\n",
       " 'Installs',\n",
       " 'Type',\n",
       " 'Price',\n",
       " 'Content Rating',\n",
       " 'Genres',\n",
       " 'Last Updated',\n",
       " 'Current Ver',\n",
       " 'Android Ver']"
      ]
     },
     "execution_count": 45,
     "metadata": {},
     "output_type": "execute_result"
    }
   ],
   "source": [
    "columns=[]\n",
    "with open('googleplaystore.txt','r',encoding='utf-8') as f:\n",
    "    columns=f.readline().strip().split('∑')\n",
    "columns"
   ]
  },
  {
   "cell_type": "code",
   "execution_count": 46,
   "metadata": {},
   "outputs": [],
   "source": [
    "info={}\n",
    "with open('googleplaystore.txt','r',encoding='utf-8') as f:\n",
    "    for line in f.readlines()[1:]:\n",
    "        data=line.strip().split('∑')[-1]\n",
    "        info[data]=info.get(data,0) + 1\n",
    "\n"
   ]
  },
  {
   "cell_type": "code",
   "execution_count": 47,
   "metadata": {},
   "outputs": [
    {
     "name": "stdout",
     "output_type": "stream",
     "text": [
      "6 number of most frequent app versions requirement: \n"
     ]
    },
    {
     "data": {
      "text/plain": [
       "[('4.1 and up', 2451),\n",
       " ('4.0.3 and up', 1501),\n",
       " ('4.0 and up', 1375),\n",
       " ('Varies with device', 1362),\n",
       " ('4.4 and up', 980),\n",
       " ('2.3 and up', 652)]"
      ]
     },
     "execution_count": 47,
     "metadata": {},
     "output_type": "execute_result"
    }
   ],
   "source": [
    "items=list(info.items())\n",
    "T=int(input('Enter Number:'))\n",
    "print(f'{T} number of most frequent app versions requirement: ')\n",
    "sorted(items,key=lambda x:x[1],reverse=True)[:T]"
   ]
  },
  {
   "cell_type": "markdown",
   "metadata": {},
   "source": [
    "**T** (10pts) K of the best applications in every category(K should be specified by user)\n",
    "\n",
    "\n",
    "> result:\n",
    "`<appname,{other fields} >`"
   ]
  },
  {
   "cell_type": "code",
   "execution_count": 50,
   "metadata": {},
   "outputs": [],
   "source": [
    "reviews={}\n",
    "\n",
    "with open('googleplaystore_user_reviews.txt','r',encoding='utf-8') as f:\n",
    "    for line in f.readlines()[1:]:\n",
    "        review=line.strip().split('∑')\n",
    "        if any([review[-1]=='nan',review[-2]=='nan']):\n",
    "            continue\n",
    "        score=float(review[-1])*float(review[-2])\n",
    "        appname=review[0]\n",
    "        reviews[appname]=reviews.get(appname,0)+score\n",
    "\n",
    "review_items=list(reviews.items())"
   ]
  },
  {
   "cell_type": "code",
   "execution_count": 52,
   "metadata": {},
   "outputs": [
    {
     "name": "stdout",
     "output_type": "stream",
     "text": [
      "5 best application based on reviews:\n"
     ]
    },
    {
     "data": {
      "text/plain": [
       "[('10 Best Foods for You', 55.529031069322514),\n",
       " ('Calorie Counter - MyNetDiary', 35.600832285708044),\n",
       " ('Calorie Counter - MyFitnessPal', 32.031406133453594),\n",
       " ('Box', 28.82416373299322),\n",
       " ('Health and Nutrition Guide', 28.81074540973798)]"
      ]
     },
     "execution_count": 52,
     "metadata": {},
     "output_type": "execute_result"
    }
   ],
   "source": [
    "\n",
    "k=int(input('Enter number of best application:'))\n",
    "print(f'{k} best application based on reviews:')\n",
    "sorted(review_items,key=lambda x:x[1],reverse=True)[:k]"
   ]
  },
  {
   "cell_type": "markdown",
   "metadata": {},
   "source": [
    "**T** (20pts) Number of applications in every category according to version of Android(output must be sorted on Count)\n",
    "\n",
    "> result:\n",
    "`<category, {count, version} >`"
   ]
  },
  {
   "cell_type": "code",
   "execution_count": 58,
   "metadata": {},
   "outputs": [
    {
     "data": {
      "text/plain": [
       "[('ART_AND_DESIGN',\n",
       "  [('4.0.3 and up', 16),\n",
       "   ('4.2 and up', 4),\n",
       "   ('4.4 and up', 3),\n",
       "   ('2.3 and up', 8),\n",
       "   ('3.0 and up', 2),\n",
       "   ('4.1 and up', 21),\n",
       "   ('4.0 and up', 7),\n",
       "   ('2.3.3 and up', 1),\n",
       "   ('Varies with device', 2),\n",
       "   ('5.0 and up', 1)])]"
      ]
     },
     "execution_count": 58,
     "metadata": {},
     "output_type": "execute_result"
    }
   ],
   "source": [
    "cat_info={}\n",
    "with open('googleplaystore.txt','r',encoding='utf-8') as f:\n",
    "    for line in f.readlines()[1:]:\n",
    "        data=line.strip().split('∑')\n",
    "        category=data[1]\n",
    "        version=data[-1]\n",
    "        if category not in cat_info.keys():\n",
    "            cat_info[category]={}\n",
    "        cat_info[category][version]=cat_info[category].get(version,0) + 1\n",
    "\n",
    "\n",
    "category_items=[(x[0],list(x[1].items())) for x in list(cat_info.items())]\n",
    "category_items[:1]"
   ]
  },
  {
   "cell_type": "code",
   "execution_count": 60,
   "metadata": {},
   "outputs": [
    {
     "name": "stdout",
     "output_type": "stream",
     "text": [
      "5 most frequent versions in each category:\n",
      "\n",
      "<ART_AND_DESIGN, (21, '4.1 and up') >\n",
      "<ART_AND_DESIGN, (16, '4.0.3 and up') >\n",
      "<ART_AND_DESIGN, (8, '2.3 and up') >\n",
      "<ART_AND_DESIGN, (7, '4.0 and up') >\n",
      "<ART_AND_DESIGN, (4, '4.2 and up') >\n",
      "_____\n",
      "<AUTO_AND_VEHICLES, (15, '4.1 and up') >\n",
      "<AUTO_AND_VEHICLES, (15, '4.0 and up') >\n",
      "<AUTO_AND_VEHICLES, (12, '4.0.3 and up') >\n",
      "<AUTO_AND_VEHICLES, (8, '4.4 and up') >\n",
      "<AUTO_AND_VEHICLES, (7, 'Varies with device') >\n",
      "_____\n",
      "<BEAUTY, (18, '4.0.3 and up') >\n",
      "<BEAUTY, (11, '4.0 and up') >\n",
      "<BEAUTY, (9, '4.1 and up') >\n",
      "<BEAUTY, (4, '5.0 and up') >\n",
      "<BEAUTY, (3, 'Varies with device') >\n",
      "_____\n",
      "<BOOKS_AND_REFERENCE, (43, '4.0 and up') >\n",
      "<BOOKS_AND_REFERENCE, (34, '4.1 and up') >\n",
      "<BOOKS_AND_REFERENCE, (31, 'Varies with device') >\n",
      "<BOOKS_AND_REFERENCE, (30, '4.0.3 and up') >\n",
      "<BOOKS_AND_REFERENCE, (18, '2.3 and up') >\n",
      "_____\n",
      "<BUSINESS, (119, '4.1 and up') >\n",
      "<BUSINESS, (75, '4.0 and up') >\n",
      "<BUSINESS, (56, '4.0.3 and up') >\n",
      "<BUSINESS, (45, '4.4 and up') >\n",
      "<BUSINESS, (41, 'Varies with device') >\n",
      "_____\n",
      "<COMICS, (16, '4.0.3 and up') >\n",
      "<COMICS, (10, '4.1 and up') >\n",
      "<COMICS, (9, 'Varies with device') >\n",
      "<COMICS, (6, '4.0 and up') >\n",
      "<COMICS, (5, '4.4 and up') >\n",
      "_____\n",
      "<COMMUNICATION, (101, 'Varies with device') >\n",
      "<COMMUNICATION, (69, '4.1 and up') >\n",
      "<COMMUNICATION, (46, '4.0 and up') >\n",
      "<COMMUNICATION, (35, '4.0.3 and up') >\n",
      "<COMMUNICATION, (25, '2.3 and up') >\n",
      "_____\n",
      "<DATING, (75, '4.0.3 and up') >\n",
      "<DATING, (74, '4.1 and up') >\n",
      "<DATING, (24, '4.0 and up') >\n",
      "<DATING, (20, '4.4 and up') >\n",
      "<DATING, (12, 'Varies with device') >\n",
      "_____\n",
      "<EDUCATION, (41, 'Varies with device') >\n",
      "<EDUCATION, (31, '4.1 and up') >\n",
      "<EDUCATION, (25, '4.0 and up') >\n",
      "<EDUCATION, (14, '5.0 and up') >\n",
      "<EDUCATION, (13, '4.4 and up') >\n",
      "_____\n",
      "<ENTERTAINMENT, (52, 'Varies with device') >\n",
      "<ENTERTAINMENT, (42, '4.4 and up') >\n",
      "<ENTERTAINMENT, (23, '4.1 and up') >\n",
      "<ENTERTAINMENT, (10, '5.0 and up') >\n",
      "<ENTERTAINMENT, (7, '4.0.3 and up') >\n",
      "_____\n",
      "<EVENTS, (17, '4.1 and up') >\n",
      "<EVENTS, (9, '4.0 and up') >\n",
      "<EVENTS, (9, '4.2 and up') >\n",
      "<EVENTS, (7, 'Varies with device') >\n",
      "<EVENTS, (6, '4.4 and up') >\n",
      "_____\n",
      "<FINANCE, (57, '4.1 and up') >\n",
      "<FINANCE, (54, '5.0 and up') >\n",
      "<FINANCE, (53, 'Varies with device') >\n",
      "<FINANCE, (51, '4.4 and up') >\n",
      "<FINANCE, (47, '4.0 and up') >\n",
      "_____\n",
      "<FOOD_AND_DRINK, (24, '4.1 and up') >\n",
      "<FOOD_AND_DRINK, (24, 'Varies with device') >\n",
      "<FOOD_AND_DRINK, (22, '4.4 and up') >\n",
      "<FOOD_AND_DRINK, (20, '5.0 and up') >\n",
      "<FOOD_AND_DRINK, (15, '4.0.3 and up') >\n",
      "_____\n",
      "<HEALTH_AND_FITNESS, (86, '4.1 and up') >\n",
      "<HEALTH_AND_FITNESS, (73, 'Varies with device') >\n",
      "<HEALTH_AND_FITNESS, (37, '4.4 and up') >\n",
      "<HEALTH_AND_FITNESS, (35, '4.0.3 and up') >\n",
      "<HEALTH_AND_FITNESS, (32, '4.0 and up') >\n",
      "_____\n",
      "<HOUSE_AND_HOME, (20, 'Varies with device') >\n",
      "<HOUSE_AND_HOME, (16, '4.0.3 and up') >\n",
      "<HOUSE_AND_HOME, (11, '4.1 and up') >\n",
      "<HOUSE_AND_HOME, (9, '5.0 and up') >\n",
      "<HOUSE_AND_HOME, (9, '4.0 and up') >\n",
      "_____\n",
      "<LIBRARIES_AND_DEMO, (26, '1.6 and up') >\n",
      "<LIBRARIES_AND_DEMO, (15, '4.0.3 and up') >\n",
      "<LIBRARIES_AND_DEMO, (12, '2.3 and up') >\n",
      "<LIBRARIES_AND_DEMO, (8, '4.0 and up') >\n",
      "<LIBRARIES_AND_DEMO, (4, '4.1 and up') >\n",
      "_____\n",
      "<LIFESTYLE, (100, '4.1 and up') >\n",
      "<LIFESTYLE, (60, '4.0.3 and up') >\n",
      "<LIFESTYLE, (57, '4.0 and up') >\n",
      "<LIFESTYLE, (34, '4.4 and up') >\n",
      "<LIFESTYLE, (30, 'Varies with device') >\n",
      "_____\n",
      "<GAME, (339, '4.1 and up') >\n",
      "<GAME, (177, '4.0.3 and up') >\n",
      "<GAME, (171, '2.3 and up') >\n",
      "<GAME, (128, '4.0 and up') >\n",
      "<GAME, (60, '4.4 and up') >\n",
      "_____\n",
      "<FAMILY, (516, '4.1 and up') >\n",
      "<FAMILY, (307, '4.0.3 and up') >\n",
      "<FAMILY, (290, '4.0 and up') >\n",
      "<FAMILY, (188, '2.3 and up') >\n",
      "<FAMILY, (150, '4.4 and up') >\n",
      "_____\n",
      "<MEDICAL, (97, '4.0.3 and up') >\n",
      "<MEDICAL, (85, '4.1 and up') >\n",
      "<MEDICAL, (61, '4.4 and up') >\n",
      "<MEDICAL, (53, '4.0 and up') >\n",
      "<MEDICAL, (44, '5.0 and up') >\n",
      "_____\n",
      "<SOCIAL, (75, 'Varies with device') >\n",
      "<SOCIAL, (68, '4.1 and up') >\n",
      "<SOCIAL, (43, '4.0.3 and up') >\n",
      "<SOCIAL, (25, '4.4 and up') >\n",
      "<SOCIAL, (18, '4.0 and up') >\n",
      "_____\n",
      "<SHOPPING, (74, '4.1 and up') >\n",
      "<SHOPPING, (55, 'Varies with device') >\n",
      "<SHOPPING, (49, '4.4 and up') >\n",
      "<SHOPPING, (28, '4.0.3 and up') >\n",
      "<SHOPPING, (21, '4.0 and up') >\n",
      "_____\n",
      "<PHOTOGRAPHY, (57, 'Varies with device') >\n",
      "<PHOTOGRAPHY, (57, '4.0 and up') >\n",
      "<PHOTOGRAPHY, (56, '4.1 and up') >\n",
      "<PHOTOGRAPHY, (46, '4.0.3 and up') >\n",
      "<PHOTOGRAPHY, (23, '4.4 and up') >\n",
      "_____\n",
      "<SPORTS, (113, '4.1 and up') >\n",
      "<SPORTS, (52, 'Varies with device') >\n",
      "<SPORTS, (48, '4.4 and up') >\n",
      "<SPORTS, (43, '4.0.3 and up') >\n",
      "<SPORTS, (40, '5.0 and up') >\n",
      "_____\n",
      "<TRAVEL_AND_LOCAL, (59, 'Varies with device') >\n",
      "<TRAVEL_AND_LOCAL, (44, '4.1 and up') >\n",
      "<TRAVEL_AND_LOCAL, (41, '4.4 and up') >\n",
      "<TRAVEL_AND_LOCAL, (29, '4.0 and up') >\n",
      "<TRAVEL_AND_LOCAL, (26, '5.0 and up') >\n",
      "_____\n",
      "<TOOLS, (135, '4.1 and up') >\n",
      "<TOOLS, (126, '4.0 and up') >\n",
      "<TOOLS, (99, 'Varies with device') >\n",
      "<TOOLS, (94, '4.0.3 and up') >\n",
      "<TOOLS, (56, '5.0 and up') >\n",
      "_____\n",
      "<PERSONALIZATION, (78, '4.1 and up') >\n",
      "<PERSONALIZATION, (60, '4.0.3 and up') >\n",
      "<PERSONALIZATION, (54, '4.0 and up') >\n",
      "<PERSONALIZATION, (38, 'Varies with device') >\n",
      "<PERSONALIZATION, (31, '2.3.3 and up') >\n",
      "_____\n",
      "<PRODUCTIVITY, (105, 'Varies with device') >\n",
      "<PRODUCTIVITY, (71, '4.1 and up') >\n",
      "<PRODUCTIVITY, (55, '4.0 and up') >\n",
      "<PRODUCTIVITY, (45, '4.4 and up') >\n",
      "<PRODUCTIVITY, (39, '4.0.3 and up') >\n",
      "_____\n",
      "<PARENTING, (18, '4.0.3 and up') >\n",
      "<PARENTING, (11, '4.0 and up') >\n",
      "<PARENTING, (11, '4.1 and up') >\n",
      "<PARENTING, (6, '4.4 and up') >\n",
      "<PARENTING, (5, '4.2 and up') >\n",
      "_____\n",
      "<WEATHER, (25, 'Varies with device') >\n",
      "<WEATHER, (14, '4.1 and up') >\n",
      "<WEATHER, (13, '4.4 and up') >\n",
      "<WEATHER, (7, '5.0 and up') >\n",
      "<WEATHER, (5, '4.0 and up') >\n",
      "_____\n",
      "<VIDEO_PLAYERS, (32, 'Varies with device') >\n",
      "<VIDEO_PLAYERS, (29, '4.1 and up') >\n",
      "<VIDEO_PLAYERS, (21, '4.0.3 and up') >\n",
      "<VIDEO_PLAYERS, (19, '4.0 and up') >\n",
      "<VIDEO_PLAYERS, (17, '4.4 and up') >\n",
      "_____\n",
      "<NEWS_AND_MAGAZINES, (81, '4.1 and up') >\n",
      "<NEWS_AND_MAGAZINES, (63, 'Varies with device') >\n",
      "<NEWS_AND_MAGAZINES, (41, '4.4 and up') >\n",
      "<NEWS_AND_MAGAZINES, (33, '4.0 and up') >\n",
      "<NEWS_AND_MAGAZINES, (24, '4.0.3 and up') >\n",
      "_____\n",
      "<MAPS_AND_NAVIGATION, (33, '4.1 and up') >\n",
      "<MAPS_AND_NAVIGATION, (27, 'Varies with device') >\n",
      "<MAPS_AND_NAVIGATION, (24, '4.0 and up') >\n",
      "<MAPS_AND_NAVIGATION, (21, '4.0.3 and up') >\n",
      "<MAPS_AND_NAVIGATION, (7, '5.0 and up') >\n",
      "_____\n"
     ]
    }
   ],
   "source": [
    "T=int(input('Enter number of most frequent versions for each category:'))\n",
    "print(f'{T} most frequent versions in each category:\\n')\n",
    "for item in category_items:\n",
    "    category=item[0]\n",
    "    for version in sorted(item[1],key=lambda x:x[1],reverse=True)[:T]:\n",
    "        print(f'<{category}, {version[1], version[0]} >')\n",
    "    print('_____')"
   ]
  },
  {
   "cell_type": "markdown",
   "metadata": {},
   "source": [
    "**T** (60pts) In the review dataset which words have more occurrence in every application(output must be sorted on Count)\n",
    "\n",
    "> result: \n",
    "`<appname, {count, word1, word2} >`\n",
    "\n",
    "`hint:` use secondary sort"
   ]
  },
  {
   "cell_type": "markdown",
   "metadata": {},
   "source": [
    "In fact, this exercise expect to get a bigram-like object\n",
    "\n",
    "#### Theory:\n",
    "![bigram](bigram.svg)\n",
    "\n",
    "#### Sample\n",
    "![bigram sample](bigram_sample.png)\n"
   ]
  },
  {
   "cell_type": "code",
   "execution_count": 42,
   "metadata": {},
   "outputs": [],
   "source": [
    "app_with_reviews={}\n",
    "with open('googleplaystore_user_reviews.txt','r',encoding='utf-8') as f:\n",
    "    for line in f.readlines()[1:]:\n",
    "        data=line.strip().split('∑')\n",
    "        name=data[0]\n",
    "        if name not in app_with_reviews:\n",
    "            app_with_reviews[name]=[]\n",
    "        app_with_reviews[name].append(data[1])\n",
    "\n",
    "\n",
    "stop_words=set(['.','&',',','!','-','#'])\n"
   ]
  },
  {
   "cell_type": "code",
   "execution_count": 50,
   "metadata": {},
   "outputs": [],
   "source": [
    "bigram={}\n",
    "for name,app_reviews in app_with_reviews.items():\n",
    "    bigram[name]={}\n",
    "    for app_review in app_reviews:\n",
    "        non_stop_words= [x for x in app_review.split() if x not in stop_words]\n",
    "        for i in range(len(non_stop_words)-1):\n",
    "            j=i+1\n",
    "            bigram[name][(non_stop_words[i],non_stop_words[j])]=bigram[name].get((non_stop_words[i],non_stop_words[j]),0)+1\n",
    "\n",
    "\n",
    "app_items=[(x[0],y[0],y[1]) for x in bigram.items() for y in x[1].items()]\n"
   ]
  },
  {
   "cell_type": "code",
   "execution_count": 51,
   "metadata": {},
   "outputs": [],
   "source": [
    "sorted_bigrams=sorted(app_items,key=lambda x:(x[-1],x[0]),reverse=True)"
   ]
  },
  {
   "cell_type": "code",
   "execution_count": 59,
   "metadata": {},
   "outputs": [
    {
     "name": "stdout",
     "output_type": "stream",
     "text": [
      "15 most frequent co-occured words:\n",
      "\n",
      "DRAGON BALL LEGENDS, {70, Full, Review}\n",
      "Helix Jump, {53, I, paid}\n",
      "Gyft - Mobile Gift Card Wallet, {45, gift, card}\n",
      "Candy Crush Saga, {42, I, like}\n",
      "Google Photos, {41, I, want}\n",
      "Helix Jump, {38, The, game}\n",
      "Helix Jump, {38, still, get}\n",
      "Helix Jump, {37, I, still}\n",
      "8fit Workouts & Meal Planner, {35, I, love}\n",
      "Helix Jump, {34, many, ads}\n",
      "Duolingo: Learn Languages Free, {32, I, think}\n",
      "Duolingo: Learn Languages Free, {31, I, like}\n",
      "Angry Birds Classic, {31, I, get}\n",
      "Crunchyroll - Everything Anime, {30, I, love}\n",
      "Candy Crush Saga, {30, I, want}\n"
     ]
    }
   ],
   "source": [
    "T=int(input('Enter number of most frequent co-occured words:'))\n",
    "print(f'{T} most frequent co-occured words:\\n')\n",
    "for sorted_item in sorted_bigrams[:T]:\n",
    "    print(f'{sorted_item[0]}, {{{sorted_item[-1]}, {sorted_item[1][0]}, {sorted_item[1][1]}}}')"
   ]
  }
 ],
 "metadata": {
  "kernelspec": {
   "display_name": "Python 3.10.5 64-bit",
   "language": "python",
   "name": "python3"
  },
  "language_info": {
   "codemirror_mode": {
    "name": "ipython",
    "version": 3
   },
   "file_extension": ".py",
   "mimetype": "text/x-python",
   "name": "python",
   "nbconvert_exporter": "python",
   "pygments_lexer": "ipython3",
   "version": "3.10.5"
  },
  "varInspector": {
   "cols": {
    "lenName": 16,
    "lenType": 16,
    "lenVar": 40
   },
   "kernels_config": {
    "python": {
     "delete_cmd_postfix": "",
     "delete_cmd_prefix": "del ",
     "library": "var_list.py",
     "varRefreshCmd": "print(var_dic_list())"
    },
    "r": {
     "delete_cmd_postfix": ") ",
     "delete_cmd_prefix": "rm(",
     "library": "var_list.r",
     "varRefreshCmd": "cat(var_dic_list()) "
    }
   },
   "types_to_exclude": [
    "module",
    "function",
    "builtin_function_or_method",
    "instance",
    "_Feature"
   ],
   "window_display": false
  },
  "vscode": {
   "interpreter": {
    "hash": "5c17fe9738ee4a62982e853878448248e6d4905d8f188b265e5989a249d1e5ca"
   }
  }
 },
 "nbformat": 4,
 "nbformat_minor": 4
}
